{
 "cells": [
  {
   "cell_type": "code",
   "execution_count": 4,
   "id": "31e588d8",
   "metadata": {},
   "outputs": [
    {
     "name": "stdout",
     "output_type": "stream",
     "text": [
      "Be careful not to fall off!\n"
     ]
    }
   ],
   "source": [
    "the_world_is_flat = True\n",
    "if the_world_is_flat:\n",
    "    print(\"Be careful not to fall off!\")"
   ]
  },
  {
   "cell_type": "code",
   "execution_count": 5,
   "id": "5843af85",
   "metadata": {},
   "outputs": [
    {
     "name": "stdout",
     "output_type": "stream",
     "text": [
      "46656\n",
      "1\n",
      "1\n",
      "1/2\n"
     ]
    }
   ],
   "source": [
    "from decimal import Decimal\n",
    "from fractions import Fraction\n",
    "\n",
    "a = 6 ** 6\n",
    "b = Decimal('1')\n",
    "c = Decimal('1')\n",
    "d = Fraction(1, 2)\n",
    "print(a)\n",
    "print(b)\n",
    "print(c)\n",
    "print(d)"
   ]
  },
  {
   "cell_type": "code",
   "execution_count": 6,
   "id": "55412e2b",
   "metadata": {},
   "outputs": [
    {
     "name": "stdout",
     "output_type": "stream",
     "text": [
      "ArithmeticError\n",
      "\n",
      "bb\n",
      "aaa\n",
      "bb\\naaa\n",
      "cccggggg\n"
     ]
    }
   ],
   "source": [
    "a = \"\"\"\\\n",
    "ArithmeticError\n",
    "\"\"\"\n",
    "b = \"bb\\naaa\"\n",
    "c = r\"bb\\naaa\" # 原生字符串\n",
    "d = ('ccc'\n",
    "'ggggg')\n",
    "print(a)\n",
    "print(b)\n",
    "print(c)\n",
    "print(d)"
   ]
  },
  {
   "cell_type": "code",
   "execution_count": 7,
   "id": "9de9132c",
   "metadata": {},
   "outputs": [
    {
     "name": "stdout",
     "output_type": "stream",
     "text": [
      "0\n",
      "1\n",
      "1\n",
      "2\n",
      "3\n",
      "5\n",
      "8\n"
     ]
    }
   ],
   "source": [
    "# 斐波那契数列：\n",
    "# 前两项之和即下一项的值\n",
    "a, b = 0, 1\n",
    "while a < 10:\n",
    "    print(a)\n",
    "    a, b = b, a+b\n"
   ]
  },
  {
   "cell_type": "code",
   "execution_count": 8,
   "id": "d164642b",
   "metadata": {},
   "outputs": [
    {
     "name": "stdout",
     "output_type": "stream",
     "text": [
      "x is 1\n"
     ]
    }
   ],
   "source": [
    "x = 1\n",
    "if x == 1:\n",
    "    print(\"x is 1\")\n",
    "elif x == 2:\n",
    "    print(\"x is 2\")\n",
    "else:\n",
    "    print(\"x is not 1 or 2\")"
   ]
  },
  {
   "cell_type": "code",
   "execution_count": 9,
   "id": "ca4f3d79",
   "metadata": {},
   "outputs": [
    {
     "name": "stdout",
     "output_type": "stream",
     "text": [
      "Hans active\n",
      "Éléonore inactive\n",
      "景太郎 active\n",
      "{'Hans': 'active', '景太郎': 'active'}\n",
      "{'Hans': 'active', '景太郎': 'active'}\n"
     ]
    }
   ],
   "source": [
    "users = {'Hans': 'active', 'Éléonore': 'inactive', '景太郎': 'active'}\n",
    "\n",
    "# 策略：迭代一个副本\n",
    "for user, status in users.copy().items():\n",
    "    print(user, status)\n",
    "    if status == 'inactive':\n",
    "        del users[user]\n",
    "\n",
    "# 策略：创建一个新多项集\n",
    "active_users = {}\n",
    "for user, status in users.items():\n",
    "    if status == 'active':\n",
    "        active_users[user] = status\n",
    "\n",
    "print(users)\n",
    "print(active_users)"
   ]
  },
  {
   "cell_type": "code",
   "execution_count": 10,
   "id": "378aa74d",
   "metadata": {},
   "outputs": [
    {
     "name": "stdout",
     "output_type": "stream",
     "text": [
      "0\n",
      "1\n",
      "2\n",
      "3\n",
      "4\n",
      "--------------------------------\n",
      "5\n",
      "6\n",
      "7\n",
      "8\n",
      "9\n",
      "--------------------------------\n",
      "0\n",
      "3\n",
      "6\n",
      "9\n",
      "--------------------------------\n",
      "-10\n",
      "-40\n",
      "-70\n"
     ]
    }
   ],
   "source": [
    "for i in range(5):\n",
    "    print(i)\n",
    "print(\"--------------------------------\")\n",
    "for i in range(5, 10):\n",
    "    print(i)\n",
    "print(\"--------------------------------\")\n",
    "for i in range(0, 10, 3):\n",
    "    print(i)\n",
    "print(\"--------------------------------\")\n",
    "for i in range(-10, -100, -30):\n",
    "    print(i)"
   ]
  },
  {
   "cell_type": "code",
   "execution_count": 11,
   "id": "6024325b",
   "metadata": {},
   "outputs": [
    {
     "name": "stdout",
     "output_type": "stream",
     "text": [
      "['a', 'b', 'c', 'd', 'e', 'f', 'g']\n",
      "['a', 'b', 'C', 'D', 'E', 'f', 'g']\n",
      "['a', 'b', 'f', 'g']\n",
      "[]\n"
     ]
    }
   ],
   "source": [
    "letters = ['a', 'b', 'c', 'd', 'e', 'f', 'g']\n",
    "print(letters)\n",
    "# 替换一些值\n",
    "letters[2:5] = ['C', 'D', 'E']\n",
    "print(letters)\n",
    "# 现在移除它们\n",
    "letters[2:5] = []\n",
    "print(letters)\n",
    "# 通过用一个空列表替代所有元素来清空列表\n",
    "letters[:] = []\n",
    "print(letters)"
   ]
  },
  {
   "cell_type": "code",
   "execution_count": 12,
   "id": "ef818d04",
   "metadata": {},
   "outputs": [
    {
     "ename": "ValueError",
     "evalue": "Not a point",
     "output_type": "error",
     "traceback": [
      "\u001b[0;31m---------------------------------------------------------------------------\u001b[0m",
      "\u001b[0;31mValueError\u001b[0m                                Traceback (most recent call last)",
      "Cell \u001b[0;32mIn[12], line 13\u001b[0m\n\u001b[1;32m      1\u001b[0m point \u001b[38;5;241m=\u001b[39m (\u001b[38;5;241m1\u001b[39m, \u001b[38;5;241m2\u001b[39m, \u001b[38;5;241m3\u001b[39m)\n\u001b[1;32m      2\u001b[0m \u001b[38;5;66;03m# point 是一个 (x, y) 元组\u001b[39;00m\n\u001b[1;32m      3\u001b[0m \u001b[38;5;28;01mmatch\u001b[39;00m point:\n\u001b[1;32m      4\u001b[0m     \u001b[38;5;28;01mcase\u001b[39;00m (\u001b[38;5;241m0\u001b[39m, \u001b[38;5;241m0\u001b[39m):\n\u001b[1;32m      5\u001b[0m         \u001b[38;5;28mprint\u001b[39m(\u001b[38;5;124m\"\u001b[39m\u001b[38;5;124mOrigin\u001b[39m\u001b[38;5;124m\"\u001b[39m)\n\u001b[1;32m      6\u001b[0m     \u001b[38;5;28;01mcase\u001b[39;00m (\u001b[38;5;241m0\u001b[39m, y):\n\u001b[1;32m      7\u001b[0m         \u001b[38;5;28mprint\u001b[39m(\u001b[38;5;124mf\u001b[39m\u001b[38;5;124m\"\u001b[39m\u001b[38;5;124mY=\u001b[39m\u001b[38;5;132;01m{\u001b[39;00my\u001b[38;5;132;01m}\u001b[39;00m\u001b[38;5;124m\"\u001b[39m)\n\u001b[1;32m      8\u001b[0m     \u001b[38;5;28;01mcase\u001b[39;00m (x, \u001b[38;5;241m0\u001b[39m):\n\u001b[1;32m      9\u001b[0m         \u001b[38;5;28mprint\u001b[39m(\u001b[38;5;124mf\u001b[39m\u001b[38;5;124m\"\u001b[39m\u001b[38;5;124mX=\u001b[39m\u001b[38;5;132;01m{\u001b[39;00mx\u001b[38;5;132;01m}\u001b[39;00m\u001b[38;5;124m\"\u001b[39m)\n\u001b[1;32m     10\u001b[0m     \u001b[38;5;28;01mcase\u001b[39;00m (x, y):\n\u001b[1;32m     11\u001b[0m         \u001b[38;5;28mprint\u001b[39m(\u001b[38;5;124mf\u001b[39m\u001b[38;5;124m\"\u001b[39m\u001b[38;5;124mX=\u001b[39m\u001b[38;5;132;01m{\u001b[39;00mx\u001b[38;5;132;01m}\u001b[39;00m\u001b[38;5;124m, Y=\u001b[39m\u001b[38;5;132;01m{\u001b[39;00my\u001b[38;5;132;01m}\u001b[39;00m\u001b[38;5;124m\"\u001b[39m)\n\u001b[1;32m     12\u001b[0m     \u001b[38;5;28;01mcase\u001b[39;00m\u001b[38;5;250m \u001b[39m\u001b[38;5;28;01m_\u001b[39;00m:\n\u001b[0;32m---> 13\u001b[0m         \u001b[38;5;28;01mraise\u001b[39;00m \u001b[38;5;167;01mValueError\u001b[39;00m(\u001b[38;5;124m\"\u001b[39m\u001b[38;5;124mNot a point\u001b[39m\u001b[38;5;124m\"\u001b[39m)\n",
      "\u001b[0;31mValueError\u001b[0m: Not a point"
     ]
    }
   ],
   "source": [
    "point = (1, 2, 3)\n",
    "# point 是一个 (x, y) 元组\n",
    "match point:\n",
    "    case (0, 0):\n",
    "        print(\"Origin\")\n",
    "    case (0, y):\n",
    "        print(f\"Y={y}\")\n",
    "    case (x, 0):\n",
    "        print(f\"X={x}\")\n",
    "    case (x, y):\n",
    "        print(f\"X={x}, Y={y}\")\n",
    "    case _:\n",
    "        raise ValueError(\"Not a point\")"
   ]
  },
  {
   "cell_type": "code",
   "execution_count": 14,
   "id": "06843c4f",
   "metadata": {},
   "outputs": [
    {
     "name": "stdout",
     "output_type": "stream",
     "text": [
      "1 2 3\n",
      "1 2 3\n"
     ]
    },
    {
     "ename": "TypeError",
     "evalue": "combined_example() got some positional-only arguments passed as keyword arguments: 'pos_only'",
     "output_type": "error",
     "traceback": [
      "\u001b[0;31m---------------------------------------------------------------------------\u001b[0m",
      "\u001b[0;31mTypeError\u001b[0m                                 Traceback (most recent call last)",
      "Cell \u001b[0;32mIn[14], line 10\u001b[0m\n\u001b[1;32m      6\u001b[0m combined_example(\u001b[38;5;241m1\u001b[39m, \u001b[38;5;241m2\u001b[39m, kwd_only\u001b[38;5;241m=\u001b[39m\u001b[38;5;241m3\u001b[39m)\n\u001b[1;32m      8\u001b[0m combined_example(\u001b[38;5;241m1\u001b[39m, standard\u001b[38;5;241m=\u001b[39m\u001b[38;5;241m2\u001b[39m, kwd_only\u001b[38;5;241m=\u001b[39m\u001b[38;5;241m3\u001b[39m)\n\u001b[0;32m---> 10\u001b[0m combined_example(pos_only\u001b[38;5;241m=\u001b[39m\u001b[38;5;241m1\u001b[39m, standard\u001b[38;5;241m=\u001b[39m\u001b[38;5;241m2\u001b[39m, kwd_only\u001b[38;5;241m=\u001b[39m\u001b[38;5;241m3\u001b[39m)\n\u001b[1;32m     12\u001b[0m combined_example(\u001b[38;5;241m1\u001b[39m, \u001b[38;5;241m2\u001b[39m, \u001b[38;5;241m3\u001b[39m)\n",
      "\u001b[0;31mTypeError\u001b[0m: combined_example() got some positional-only arguments passed as keyword arguments: 'pos_only'"
     ]
    }
   ],
   "source": [
    "def combined_example(pos_only, /, standard, *, kwd_only):\n",
    "    '''只能位置 / 关键字位置都可以 * 只能关键字 '''\n",
    "    print(pos_only, standard, kwd_only)\n",
    "\n",
    "\n",
    "combined_example(1, 2, kwd_only=3)\n",
    "\n",
    "combined_example(1, standard=2, kwd_only=3)\n",
    "\n",
    "combined_example(pos_only=1, standard=2, kwd_only=3)\n",
    "\n",
    "combined_example(1, 2, 3)"
   ]
  }
 ],
 "metadata": {
  "kernelspec": {
   "display_name": "base",
   "language": "python",
   "name": "python3"
  },
  "language_info": {
   "codemirror_mode": {
    "name": "ipython",
    "version": 3
   },
   "file_extension": ".py",
   "mimetype": "text/x-python",
   "name": "python",
   "nbconvert_exporter": "python",
   "pygments_lexer": "ipython3",
   "version": "3.13.5"
  }
 },
 "nbformat": 4,
 "nbformat_minor": 5
}
